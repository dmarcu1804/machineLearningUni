{
 "cells": [
  {
   "cell_type": "code",
   "execution_count": 28,
   "metadata": {},
   "outputs": [
    {
     "data": {
      "text/plain": [
       "80.0"
      ]
     },
     "execution_count": 28,
     "metadata": {},
     "output_type": "execute_result"
    }
   ],
   "source": [
    "import pandas as pd\n",
    "import numpy as np\n",
    "import matplotlib.pyplot as plt\n",
    "\n",
    "noOfIter = 2000\n",
    "lr = 0.1\n",
    "#WIKIPEDIA DATASET\n",
    "X = np.asarray ([[0.50], [0.75], [1.00], [1.25], [1.50], [1.75], [1.75], [2.00],\n",
    "[2.25], [2.50], [2.75], [3.00], [3.25], [3.50], [4.00], [4.25], [4.50], [4.75],\n",
    "[5.00], [5.50]])\n",
    "\n",
    "y = np.asarray([0, 0, 0, 0, 0, 0, 1, 0, 1, 0, 1, 0,1,0,1,1,1,1,1,1])\n",
    "\n",
    "#PDF DATASET\n",
    "X_test = np.asarray ([[0.50], [0.75], [1.00], [1.25], [1.50], [1.75], [3.00], [4.75],\n",
    "[1.75], [3.25], [5.00], [2.00], [2.25], [2.50], [2.75], [3.50], [4.00], [4.25],\n",
    "[4.50], [5.50]])\n",
    "\n",
    "y_test =  np.asarray([0, 0, 0, 0, 0, 0, 1, 0, 1, 0, 1,0,1,0,1,1,1,1,1,1])\n",
    "\n",
    "lossElem = []\n",
    "\n",
    "\n",
    "def sigmoid(z):\n",
    "    ''' \n",
    "    g(z) = 1 / 1 + e^-z  ===> this is what the function does\n",
    "    \n",
    "    0 <= g(z) <= 1\n",
    "    \n",
    "    This is an activation function which squashes limits 0-1. This function will be used in the prediction stage.\n",
    "    \n",
    "    Reference: https://en.wikipedia.org/wiki/Sigmoid_function\n",
    "               https://deepai.org/machine-learning-glossary-and-terms/sigmoid-function\n",
    "               https://mathworld.wolfram.com/SigmoidFunction.html\n",
    "               \n",
    "    '''\n",
    "    return 1/(1 + np.exp(-z))\n",
    "\n",
    "\n",
    "def lossFunc(h, y):\n",
    "    ''' Loss with logarithms - found in slides \n",
    "    takes as input labels and predicted labels(h); it calculates cost, and then returns mean of cost\n",
    "    \n",
    "    Reference:https://www.analyticsvidhya.com/blog/2019/08/detailed-guide-7-loss-functions-machine-learning-python-code/\n",
    "              https://ml-cheatsheet.readthedocs.io/en/latest/loss_functions.html\n",
    "              https://ml-cheatsheet.readthedocs.io/en/latest/logistic_regression.html\n",
    "    '''\n",
    "    cost = (-y * np.log(h) - (1-y) * np.log(1-h))\n",
    "    return cost.mean()\n",
    "\n",
    "def fit(X, y):\n",
    "    ''' This function takes as inputs dataset X and labels y. It goes through a number of iterations and calculates label prediction\n",
    "    using the sigmoid function. On top of that, it adds loss for every iteration to the lossElem array. It then calculates the gradient\n",
    "    for weight and bias, which are then used to update w and b. The function returns weight and bias. \n",
    "    \n",
    "    Reference:https://towardsdatascience.com/difference-between-batch-gradient-descent-and-stochastic-gradient-descent-1187f1291aa1\n",
    "              https://stats.stackexchange.com/questions/49528/batch-gradient-descent-versus-stochastic-gradient-descent\n",
    "    '''\n",
    "    samp = X.shape[0] #stores number of samples of dataset - 20 in this case as there are 20 elements in X\n",
    "    feat = X.shape[1] #dimensions - 1\n",
    "    w = np.zeros(feat) #numpy array with 0 and length feat\n",
    "    b = 0 #initialising bias to 0\n",
    "    \n",
    "            # y = sigmoid(w * x + bias) \n",
    "    for k in range(noOfIter):\n",
    "        y_pred = sigmoid(np.dot(X, w) + b) #limiting and predicting labels using sigmoid function - getting values between 0 and 1\n",
    "        lossElem.append(lossFunc(y_pred,y)) #storing loss values using lossFunction\n",
    "        \n",
    "        gw = (1/samp) * np.dot(X.transpose(), (y_pred-y)) #gradient for weight\n",
    "        gb = (1/samp) * np.sum(y_pred-y) #gradient for bias\n",
    "        \n",
    "        w -= lr * gw #updating w\n",
    "        b -= lr * gb #updating b\n",
    "        \n",
    "        \n",
    "    return w, b #return weight and bias\n",
    "\n",
    "def pred(X, w, b):\n",
    "    ''' Prediction function - takes dataset, weight and bias as input. It returns an array of predictions\n",
    "        y_pred variable calculates the product(of items in dataset, weight and bias) and places them in the sigmoid function\n",
    "        it then checks in the for loop - if y_pred is greater than 0.5, then it belongs to class 1, otherwise, it belongs to class 0\n",
    "        \n",
    "        If z ≫ 0: g(z) → 1\n",
    "        If z ≪ 0: g(z) → 0\n",
    "        '''\n",
    "    \n",
    "    y_pred = sigmoid(np.dot(X, w) + b)\n",
    "    #yPredClass = [1 if i > 0.5 else 0 for i in y_pred]\n",
    "    #print(y_pred)\n",
    "    yPredClass = []\n",
    "    for i in y_pred:\n",
    "        if i > 0.5:\n",
    "            yPredClass.append(1)\n",
    "        else:\n",
    "            yPredClass.append(0) \n",
    "            \n",
    "    return yPredClass\n",
    "\n",
    "def accuracy_metric(actual, predicted):\n",
    "    ''' Accuracy function - takes correct values and predicted values as inputs. Creates a variable correct. Iterates through the number of \n",
    "    elements and if the elements in the actual array match the elements in the predicted array then add one to the correct variable.\n",
    "    it then returns the accuracy by dividing the number of correct matches by the length of the array, which is then multiplied by\n",
    "    100\n",
    "    '''\n",
    "    correct = 0\n",
    "    for i in range(len(actual)):\n",
    "        if actual[i] == predicted[i]:\n",
    "            correct += 1\n",
    "    return correct / float(len(actual)) * 100.0\n",
    "\n",
    "w, b = fit(X,y)\n",
    "predicted = pred(X_test, w, b)\n",
    "#lossElem\n",
    "\n",
    "#(predicted == y_test).mean() * 100\n",
    "accuracy_metric(y_test, predicted)\n"
   ]
  },
  {
   "cell_type": "markdown",
   "metadata": {},
   "source": [
    "# Task 2 - Write up"
   ]
  },
  {
   "cell_type": "markdown",
   "metadata": {},
   "source": [
    "Sigmoid function: (1 / 1 + e^-z) uses this formula to compress the limits to 0 and 1. All values will be between 0 and 1.\n",
    "\n",
    "lossFunc function: calculates loss between actual values and predicted values. I have used the formula provided in the lecture slides, and I have coded it.\n",
    "\n",
    "fit function: setting the number of samples and features based on the array. I then created a numpy array 'w' containing 0 for the number of samples, and I initiliased the bias to 0. I then iterated through a set number of iterations and calculated the predicted values by using the sigmoid function(to limit values) and dot product between weight and X(all elements) and then adding the bias. I have then calculated the loss between predicted and actual values, which is added to lossElem. I then calculated the gradient of weight(dot product of transposed elements in the array and the difference between predicted labels and actual labels; all divided by the number of elements) and bias(the sum of the difference between predicted labels and actual labels, all divided by the number of elements), which is then used to update the values of w(taking away the product of learning rate and gradient of weight) and b(taking away the product of learning rate and gradient of bias). The function then returns weight and bias\n",
    "\n",
    "pred function: Firstly, I am getting the predicted labels by using the sigmoid function, and calculating the dot product of elements in the array and weight, and adding bias to it. I then iterated through that array(that stores the labels predicted using sigmoid) and if the predicted values are over 0.5, it belongs to class 1, and if they are below 0.5, it belongs to class 0. These values are added to yPredClass which is then returned\n",
    "\n",
    "accuracy_metric function: checks values from predicted and actual, and if they match, a counter is increased. It is then divided by the number of records and multiplied by 100 to give accuracy"
   ]
  },
  {
   "cell_type": "markdown",
   "metadata": {},
   "source": [
    "# Question 1\n",
    "\n",
    "After how many iterations, and for which learning rate (α) did your algorithm converge? Plot the loss function with respect to iterations to illustrate this point"
   ]
  },
  {
   "cell_type": "code",
   "execution_count": 14,
   "metadata": {},
   "outputs": [
    {
     "data": {
      "text/plain": [
       "<matplotlib.axes._subplots.AxesSubplot at 0x1de23cac688>"
      ]
     },
     "execution_count": 14,
     "metadata": {},
     "output_type": "execute_result"
    },
    {
     "data": {
      "image/png": "[encoded data removed]",
      "text/plain": [
       "<Figure size 432x288 with 1 Axes>"
      ]
     },
     "metadata": {
      "needs_background": "light"
     },
     "output_type": "display_data"
    }
   ],
   "source": [
    "df = pd.DataFrame(lossElem)\n",
    "lines = df.plot.line()\n",
    "lines.legend().set_visible(False)\n",
    "lines.set_xlabel(\"Number of Iterations\")\n",
    "lines.set_ylabel(\"Loss\")\n",
    "lines.set_title(\"Loss function with respect to iterations\")\n",
    "lines"
   ]
  },
  {
   "cell_type": "code",
   "execution_count": 18,
   "metadata": {},
   "outputs": [
    {
     "data": {
      "text/plain": [
       "<matplotlib.axes._subplots.AxesSubplot at 0x1de24db1c08>"
      ]
     },
     "execution_count": 18,
     "metadata": {},
     "output_type": "execute_result"
    },
    {
     "data": {
      "image/png": "[encoded data removed]",
      "text/plain": [
       "<Figure size 432x288 with 1 Axes>"
      ]
     },
     "metadata": {
      "needs_background": "light"
     },
     "output_type": "display_data"
    }
   ],
   "source": [
    "df = pd.DataFrame(lossElem)\n",
    "lines = df.plot.line()\n",
    "lines.legend().set_visible(False)\n",
    "lines.set_xlabel(\"Number of Iterations\")\n",
    "lines.set_ylabel(\"Loss\")\n",
    "lines.set_title(\"Loss function with respect to iterations\")\n",
    "lines"
   ]
  },
  {
   "cell_type": "markdown",
   "metadata": {},
   "source": [
    "My algorithm converged at roughly 850 iterations(max iteration 2000) with learning rate 0.1\n",
    "My algorithm converged at roughly 8000 iterations(max iterations 15000) with learning rate 0.01"
   ]
  },
  {
   "cell_type": "markdown",
   "metadata": {},
   "source": [
    "# Question 2\n",
    "\n",
    "What happens if α is too large? How does this affect the loss function?\n",
    "Plot the loss function with respect to iterations to illustrate this point."
   ]
  },
  {
   "cell_type": "code",
   "execution_count": 26,
   "metadata": {},
   "outputs": [
    {
     "data": {
      "text/plain": [
       "<matplotlib.axes._subplots.AxesSubplot at 0x1de24e86048>"
      ]
     },
     "execution_count": 26,
     "metadata": {},
     "output_type": "execute_result"
    },
    {
     "data": {
      "image/png": "[encoded data removed]",
      "text/plain": [
       "<Figure size 432x288 with 1 Axes>"
      ]
     },
     "metadata": {
      "needs_background": "light"
     },
     "output_type": "display_data"
    }
   ],
   "source": [
    "df = pd.DataFrame(lossElem)\n",
    "lines = df.plot.line()\n",
    "lines.legend().set_visible(False)\n",
    "lines.set_xlabel(\"Number of Iterations\")\n",
    "lines.set_ylabel(\"Loss\")\n",
    "lines.set_title(\"Loss function with respect to iterations\")\n",
    "lines"
   ]
  },
  {
   "cell_type": "markdown",
   "metadata": {},
   "source": [
    "A small learning rate will take a long time to converge — you might run out of time or cycles before getting an answer. A large learning rate might skip over the best value.\n",
    "In this example, the learning rate is 0.001. It also changes the loss function as the gradient is changed as well.\n",
    "I have noticed that the smaller the learning rate, the more iterations are needed for the algorithm to converge."
   ]
  },
  {
   "cell_type": "markdown",
   "metadata": {},
   "source": [
    "# Question 3\n",
    "\n",
    "Assume that you are applying logistic regression to the iris (flower)\n",
    "dataset, as in the previous assignment. Answer the following questions:\n",
    "(a) How would your hypothesis function change in this case and why?\n",
    "(b) How would you utilize your implementation of logistic regression in order to\n",
    "perform (multi-class) classification on the iris dataset? Include some pseudocode\n",
    "while discussing your approach. "
   ]
  },
  {
   "cell_type": "markdown",
   "metadata": {},
   "source": [
    "a)I would change my hypothesis function so it would be able to take multiple classes because the iris dataset had multiple classes of labels.\n",
    "\n",
    "b)I would use Softmax(it is a multi class sigmoid) instead of sigmoid, which will calculate probability for every possible class.\n",
    "\n",
    "Reference:(https://datascience.stackexchange.com/questions/39264/how-does-sigmoid-activation-work-in-multi-class-classification-problems),\n",
    "(https://www.quora.com/Why-is-it-better-to-use-Softmax-function-than-sigmoid-function)\n",
    "\n",
    "Softmax:\n",
    "\n",
    "\n",
    "\\begin{equation*}\n",
    "h_{θ} (x) = \\frac{1}{1+ exp(-θ^{T}x)}\n",
    "\\end{equation*}"
   ]
  },
  {
   "cell_type": "code",
   "execution_count": null,
   "metadata": {},
   "outputs": [],
   "source": []
  }
 ],
 "metadata": {
  "kernelspec": {
   "display_name": "Python 3",
   "language": "python",
   "name": "python3"
  },
  "language_info": {
   "codemirror_mode": {
    "name": "ipython",
    "version": 3
   },
   "file_extension": ".py",
   "mimetype": "text/x-python",
   "name": "python",
   "nbconvert_exporter": "python",
   "pygments_lexer": "ipython3",
   "version": "3.7.4"
  }
 },
 "nbformat": 4,
 "nbformat_minor": 2
}
